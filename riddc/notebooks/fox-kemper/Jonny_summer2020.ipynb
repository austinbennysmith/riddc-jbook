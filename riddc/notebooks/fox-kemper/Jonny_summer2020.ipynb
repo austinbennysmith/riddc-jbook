{
 "cells": [
  {
   "cell_type": "markdown",
   "metadata": {
    "colab_type": "text",
    "id": "NE7XxZ-okzbP"
   },
   "source": [
    "# Tracking Climate Change in Narragansett Bay\n",
    "> by Jonathan Benoit\n",
    "\n",
    "<img width=\"610\" alt=\"Screen Shot 2020-09-20 at 1 29 06 PM\" src=\"https://user-images.githubusercontent.com/69660053/93717834-5294fe00-fb46-11ea-84a7-8d4015b28aee.png\">\n",
    "\n",
    "The Data Discovery Center stores Landsat-derived sea surface temperature maps of Narragansett Bay. This thirty-six year long record (1984-present) allows us to map interannual sea surface temperature trends at high spatial resolution. As shown above, this map indicates that the majority of Narragansett Bay has been warming by 0.3 to 0.6 K/decade, with an anomalous lack of warming in Mt. Hope Bay. This anomaly is centered around the former location of the Brayton Point Power Station. During the early portion of the time period, the power station used water from Narragansett Bay as a coolant and released that heated water back into the bay. Due to the measured impact on the temperature of Mt. Hope Bay (Mustard, 1999) and concerns over fish kills, the power station was required to stop the release of heated water. All water discharge from the Brayton Point Power Station into Mt. Hope Bay was stopped by 2011, and the power station shut down in 2017. While this heat source was taken away from Mt. Hope Bay during this period, the rest of the bay increased in temperature, likely due to the heating of the atmosphere ocean due to climate change. This map shows the success of initiatives to reduce the release of thermal effluent into Mt. Hope Bay with respect to background warming rates.\n",
    "\n",
    "<img width=\"813\" alt=\"Screen Shot 2020-09-20 at 1 42 41 PM\" src=\"https://user-images.githubusercontent.com/69660053/93718000-452c4380-fb47-11ea-90ca-b8f342efcad6.png\">\n",
    "\n",
    "The combination of satellite and buoy data in the Data Discovery Center allow for the assessment of ocean model skill. As shown above, Landsat data that was atmospherically corrected using buoy data was used to assess a hindcast run of the Ocean State Ocean Model (OSOM) for 2006. In addition to acting as an atmospheric correction, the buoy data was used for an assessment of the standard deviation of Landsat data from in situ data. The uncertainty in the measurements represent two standard deviations from buoy data with adjustments based on the decorrelation length scales for each Landsat scene This buoy data allows for a statistical assessment of the model with respect to satellite data.\n",
    "\n",
    "**For more information about these analyses contact: jonathan_benoit@brown.edu**\n",
    "\n",
    "\n",
    "\n"
   ]
  },
  {
   "cell_type": "code",
   "execution_count": null,
   "metadata": {},
   "outputs": [],
   "source": []
  }
 ],
 "metadata": {
  "colab": {
   "authorship_tag": "ABX9TyNqIDEyQ6pnlN9UvYPkH0pn",
   "name": "Jonny_summer2020.ipynb",
   "provenance": []
  },
  "kernelspec": {
   "display_name": "Python 3",
   "language": "python",
   "name": "python3"
  },
  "language_info": {
   "codemirror_mode": {
    "name": "ipython",
    "version": 3
   },
   "file_extension": ".py",
   "mimetype": "text/x-python",
   "name": "python",
   "nbconvert_exporter": "python",
   "pygments_lexer": "ipython3",
   "version": "3.6.7"
  }
 },
 "nbformat": 4,
 "nbformat_minor": 2
}
