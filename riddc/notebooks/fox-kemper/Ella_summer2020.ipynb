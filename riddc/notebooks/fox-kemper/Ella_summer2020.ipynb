{
 "cells": [
  {
   "cell_type": "markdown",
   "metadata": {
    "colab_type": "text",
    "id": "Un9fjuSXnqL_"
   },
   "source": [
    "# Correlating conditions in the Ocean State Ocean Model to bacterial loads and beach closures\n",
    "> by Ella Wood\n",
    "\n",
    "High levels of fecal bacteria in Rhode Island swimming beaches can have serious public health repercussions as well as economic consequences.  As a result, the ability to predict these fecal bacteria levels on a single beach scale would be a powerful tool with many real world applications. In my SURF research project, I attempted to correlate Rhode Island beach closures caused by high fecal bacteria levels to conditions, including temperature, salinity, and chlorophyll, in the Ocean State Ocean Model (OSOM).  I found no clear correlation between variables predicted in the model (surface temperature, surface salinity, and surface chlorophyll 1) and beach closures due to high bacterial loads. Future research using fecal bacteria loads could more clearly identify a correlation.\n",
    "\n"
   ]
  },
  {
   "cell_type": "markdown",
   "metadata": {},
   "source": [
    "![image](https://user-images.githubusercontent.com/69660053/93811595-6875f200-fc1e-11ea-8a22-fb10deb06c92.png \"Figure 1: Total number of closures for every official beach in Rhode Island from 2000-2019. Beaches that experienced no closures are not indicated in the figure.\")\n",
    "> Figure 1: Total number of closures for every official beach in Rhode Island from 2000-2019. Beaches that experienced no closures are not indicated in the figure."
   ]
  },
  {
   "cell_type": "markdown",
   "metadata": {},
   "source": [
    "---"
   ]
  },
  {
   "cell_type": "markdown",
   "metadata": {
    "colab": {
     "base_uri": "https://localhost:8080/",
     "height": 277
    },
    "colab_type": "code",
    "executionInfo": {
     "elapsed": 3105,
     "status": "ok",
     "timestamp": 1601047018381,
     "user": {
      "displayName": "Benny Smith",
      "photoUrl": "https://lh3.googleusercontent.com/a-/AOh14Gg0dA7ilPxqG3gas5Ew3fiLMgT2-TOzghyuXDBT=s64",
      "userId": "14573098166087154291"
     },
     "user_tz": 240
    },
    "id": "GF5QP45qnosV",
    "outputId": "d314763d-56c4-449c-f364-d36fb2061d8e"
   },
   "source": [
    "![image](images/image2.gif \"Figure 2: OSOM Surface Salinity with Beach Closures\")\n",
    "> Figure 2: OSOM Surface Salinity with Beach Closures"
   ]
  },
  {
   "cell_type": "markdown",
   "metadata": {},
   "source": [
    "---"
   ]
  },
  {
   "cell_type": "markdown",
   "metadata": {},
   "source": [
    "![image](images/image3.gif \"Figure 3: OSOM Surface Salinity with Beach Closures\")\n",
    "> Figure 3: OSOM Surface Salinity with Beach Closures"
   ]
  },
  {
   "cell_type": "markdown",
   "metadata": {},
   "source": [
    "---"
   ]
  },
  {
   "cell_type": "markdown",
   "metadata": {},
   "source": [
    "![image](images/image3.gif \"Figure 4: OSOM Surface Clorophyll 1 with Beach Closures\")\n",
    "> Figure 4: OSOM Surface Clorophyll 1 with Beach Closures"
   ]
  }
 ],
 "metadata": {
  "colab": {
   "authorship_tag": "ABX9TyOBP1Oz6DUm7llwOUDwYXyt",
   "name": "Ella_summer2020.ipynb",
   "provenance": []
  },
  "kernelspec": {
   "display_name": "Python 3",
   "language": "python",
   "name": "python3"
  },
  "language_info": {
   "codemirror_mode": {
    "name": "ipython",
    "version": 3
   },
   "file_extension": ".py",
   "mimetype": "text/x-python",
   "name": "python",
   "nbconvert_exporter": "python",
   "pygments_lexer": "ipython3",
   "version": "3.6.7"
  }
 },
 "nbformat": 4,
 "nbformat_minor": 2
}
